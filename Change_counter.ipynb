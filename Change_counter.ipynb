{
 "metadata": {
  "name": "",
  "signature": "sha256:57d9e96243c6c9e8c54162b3f98d474cd3024e150f125c81681261cf77c7001f"
 },
 "nbformat": 3,
 "nbformat_minor": 0,
 "worksheets": [
  {
   "cells": [
    {
     "cell_type": "code",
     "collapsed": false,
     "input": [
      "import dendropy\n",
      "import pandas as pd"
     ],
     "language": "python",
     "metadata": {},
     "outputs": [],
     "prompt_number": 2
    },
    {
     "cell_type": "code",
     "collapsed": false,
     "input": [
      "taxa = dendropy.TaxonSet()\n",
      "mle = dendropy.Tree.get_from_path('vec_tree', 'newick', taxon_set=taxa, preserve_underscores=True) "
     ],
     "language": "python",
     "metadata": {},
     "outputs": [],
     "prompt_number": 39
    },
    {
     "cell_type": "code",
     "collapsed": false,
     "input": [
      "data = pd.read_csv('PyronParityData.csv', index_col=0)"
     ],
     "language": "python",
     "metadata": {},
     "outputs": [],
     "prompt_number": 40
    },
    {
     "cell_type": "code",
     "collapsed": false,
     "input": [
      "for idx, nd in enumerate(mle.postorder_node_iter()):\n",
      "    if nd.label is None:\n",
      "        lookup = '{}'.format(nd.taxon)\n",
      "        nd.label = int(data.ix[lookup])\n",
      "    else: \n",
      "        pass"
     ],
     "language": "python",
     "metadata": {},
     "outputs": [],
     "prompt_number": 41
    },
    {
     "cell_type": "code",
     "collapsed": false,
     "input": [
      "putative_c = []\n",
      "putative_co = []\n",
      "total = []\n",
      "for index, node in enumerate(mle.postorder_node_iter()):\n",
      "    total.append(index)\n",
      "    if node.parent_node is None:\n",
      "        pass\n",
      "    elif .5 < float(node.label) < 1 or float(node.label) == 0:    #Is likely oviparous \n",
      "        if float(node.parent_node.label) < .5 : #List of nodes that demonstrate change away from oviparity. \n",
      "            putative_co.append(index)\n",
      "    elif 0 < float(node.label) < .5 or float(node.label) == 1: \n",
      "            if float(node.parent_node.label) > .5: \n",
      "                putative_c.append(index)      \n",
      "\n",
      "            \n",
      "print len(putative_c), 'changes to viviparity' \n",
      "print len(putative_co), 'reversions to oviparity'    "
     ],
     "language": "python",
     "metadata": {},
     "outputs": [
      {
       "output_type": "stream",
       "stream": "stdout",
       "text": [
        "99 changes to viviparity\n",
        "16 reversions to oviparity\n"
       ]
      }
     ],
     "prompt_number": 142
    },
    {
     "cell_type": "code",
     "collapsed": false,
     "input": [
      "Copyright (c) <2014> <April Wright, wright.aprilm@gmail.com>\n",
      "\n",
      "\n",
      "Permission is hereby granted, free of charge, to any person obtaining a copy of this software and associated documentation files (the \"Software\"), to deal in the Software without restriction, including without limitation the rights to use, copy, modify, merge, publish, distribute, sublicense, and/or sell copies of the Software, and to permit persons to whom the Software is furnished to do so, subject to the following conditions:\n",
      "\n",
      "The above copyright notice and this permission notice shall be included in all copies or substantial portions of the Software.\n",
      "\n",
      "THE SOFTWARE IS PROVIDED \"AS IS\", WITHOUT WARRANTY OF ANY KIND, EXPRESS OR IMPLIED, INCLUDING BUT NOT LIMITED TO THE WARRANTIES OF MERCHANTABILITY, FITNESS FOR A PARTICULAR PURPOSE AND NONINFRINGEMENT. IN NO EVENT SHALL THE AUTHORS OR COPYRIGHT HOLDERS BE LIABLE FOR ANY CLAIM, DAMAGES OR OTHER LIABILITY, WHETHER IN AN ACTION OF CONTRACT, TORT OR OTHERWISE, ARISING FROM, OUT OF OR IN CONNECTION WITH THE SOFTWARE OR THE USE OR OTHER DEALINGS IN THE SOFTWARE."
     ],
     "language": "python",
     "metadata": {},
     "outputs": []
    }
   ],
   "metadata": {}
  }
 ]
}