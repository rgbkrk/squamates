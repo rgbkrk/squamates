{
 "metadata": {
  "name": "",
  "signature": "sha256:8cd7bb7d2c739da52ece2f761d7526e6c42e980077ccbf55cab1b9f620dcaa5d"
 },
 "nbformat": 3,
 "nbformat_minor": 0,
 "worksheets": [
  {
   "cells": [
    {
     "cell_type": "code",
     "collapsed": false,
     "input": [
      "import dendropy\n",
      "from dendropy.utility.fileutils import find_files"
     ],
     "language": "python",
     "metadata": {},
     "outputs": [],
     "prompt_number": 1
    },
    {
     "cell_type": "code",
     "collapsed": false,
     "input": [
      "pb_o = dendropy.Tree.get_from_path('./Trees/original_tree.tre', 'newick')"
     ],
     "language": "python",
     "metadata": {},
     "outputs": [],
     "prompt_number": 13
    },
    {
     "cell_type": "code",
     "collapsed": false,
     "input": [
      "pb = dendropy.Tree.get_from_path('./Trees/garli_opt/ranked/2598501_pb', 'nexus')"
     ],
     "language": "python",
     "metadata": {},
     "outputs": [],
     "prompt_number": 30
    },
    {
     "cell_type": "code",
     "collapsed": false,
     "input": [
      "flist = find_files(top='Trees/MLE', filename_filter='*b')\n"
     ],
     "language": "python",
     "metadata": {},
     "outputs": [],
     "prompt_number": 14
    },
    {
     "cell_type": "code",
     "collapsed": false,
     "input": [
      "sqtrees = [dendropy.Tree.get_from_path(filename,\"nexus\") for filename in flist]"
     ],
     "language": "python",
     "metadata": {},
     "outputs": [],
     "prompt_number": 8
    },
    {
     "cell_type": "code",
     "collapsed": false,
     "input": [
      "one_list = [tree.symmetric_difference(pb) for tree in sqtrees]"
     ],
     "language": "python",
     "metadata": {},
     "outputs": [],
     "prompt_number": 9
    },
    {
     "cell_type": "code",
     "collapsed": false,
     "input": [
      "print one_list\n",
      "print sum(one_list)/len(one_list)"
     ],
     "language": "python",
     "metadata": {},
     "outputs": [
      {
       "output_type": "stream",
       "stream": "stdout",
       "text": [
        "[691, 732, 730, 732, 738, 724, 694, 694, 726, 724]\n",
        "718\n"
       ]
      }
     ],
     "prompt_number": 20
    },
    {
     "cell_type": "code",
     "collapsed": false,
     "input": [
      "one_tllist = [tree.length() for tree in sqtrees]"
     ],
     "language": "python",
     "metadata": {},
     "outputs": [],
     "prompt_number": 11
    },
    {
     "cell_type": "code",
     "collapsed": false,
     "input": [
      "print one_tllist\n",
      "print sum(one_tllist)/len(one_tllist)"
     ],
     "language": "python",
     "metadata": {},
     "outputs": [
      {
       "output_type": "stream",
       "stream": "stdout",
       "text": [
        "[336.0311604799989, 339.4253813099977, 339.42225478999745, 344.60108038000095, 344.6694925800001, 340.00274861999964, 345.2246518799998, 345.2246518799998, 349.46624893000063, 359.89232511999955]\n",
        "344.395999597\n"
       ]
      }
     ],
     "prompt_number": 23
    },
    {
     "cell_type": "code",
     "collapsed": false,
     "input": [
      "bqtrees = [dendropy.Tree.get_from_path(filename,\"newick\") for filename in flist]"
     ],
     "language": "python",
     "metadata": {},
     "outputs": [],
     "prompt_number": 16
    },
    {
     "cell_type": "code",
     "collapsed": false,
     "input": [
      "three_list = [tree.symmetric_difference(pb) for tree in bqtrees]"
     ],
     "language": "python",
     "metadata": {},
     "outputs": [],
     "prompt_number": 17
    },
    {
     "cell_type": "code",
     "collapsed": false,
     "input": [
      "two_tllist = [tree.length() for tree in bqtrees]\n",
      "print two_tllist\n",
      "print sum(two_tllist)/len(two_tllist)"
     ],
     "language": "python",
     "metadata": {},
     "outputs": [
      {
       "output_type": "stream",
       "stream": "stdout",
       "text": [
        "[267.81482687115044, 204.3680261301375, 218.91695960755754, 205.61858615952585, 215.44145413795812, 203.79452107889662, 203.37676965100104, 205.6211342413188, 203.61742308190165]\n",
        "214.285522329\n"
       ]
      }
     ],
     "prompt_number": 24
    },
    {
     "cell_type": "code",
     "collapsed": false,
     "input": [
      "print three_list\n",
      "print sum(three_list)/len(three_list)"
     ],
     "language": "python",
     "metadata": {},
     "outputs": [
      {
       "output_type": "stream",
       "stream": "stdout",
       "text": [
        "[1018, 788, 744, 822, 764, 798, 860, 832, 904]\n",
        "836\n"
       ]
      }
     ],
     "prompt_number": 19
    },
    {
     "cell_type": "code",
     "collapsed": false,
     "input": [
      "four_list = [tree.symmetric_difference(pb) for tree in sqtrees]\n",
      "four_list"
     ],
     "language": "python",
     "metadata": {},
     "outputs": [
      {
       "metadata": {},
       "output_type": "pyout",
       "prompt_number": 32,
       "text": [
        "[691, 732, 730, 732, 738, 724, 694, 694, 726, 724]"
       ]
      }
     ],
     "prompt_number": 32
    },
    {
     "cell_type": "code",
     "collapsed": false,
     "input": [
      "print sum(four_list)/len(four_list)\n"
     ],
     "language": "python",
     "metadata": {},
     "outputs": [
      {
       "output_type": "stream",
       "stream": "stdout",
       "text": [
        "718\n"
       ]
      }
     ],
     "prompt_number": 33
    },
    {
     "cell_type": "code",
     "collapsed": false,
     "input": [
      "sixb = sqtrees[5]\n",
      "six_list = [tree.symmetric_difference(sixb) for tree in sqtrees]\n",
      "six_list"
     ],
     "language": "python",
     "metadata": {},
     "outputs": [
      {
       "metadata": {},
       "output_type": "pyout",
       "prompt_number": 36,
       "text": [
        "[734, 708, 764, 728, 734, 0, 729, 706, 772, 728, 724]"
       ]
      }
     ],
     "prompt_number": 36
    },
    {
     "cell_type": "code",
     "collapsed": false,
     "input": [
      "pb = dendropy.Tree.get_from_path('Trees/garli_opt/pb', 'nexus')\n",
      "mle = dendropy.Tree.get_from_path('Trees/garli_opt/2b', 'nexus')"
     ],
     "language": "python",
     "metadata": {},
     "outputs": [],
     "prompt_number": 18
    },
    {
     "cell_type": "code",
     "collapsed": false,
     "input": [
      "pb.symmetric_difference(mle)"
     ],
     "language": "python",
     "metadata": {},
     "outputs": [
      {
       "metadata": {},
       "output_type": "pyout",
       "prompt_number": 19,
       "text": [
        "732"
       ]
      }
     ],
     "prompt_number": 19
    },
    {
     "cell_type": "code",
     "collapsed": false,
     "input": [],
     "language": "python",
     "metadata": {},
     "outputs": []
    }
   ],
   "metadata": {}
  }
 ]
}