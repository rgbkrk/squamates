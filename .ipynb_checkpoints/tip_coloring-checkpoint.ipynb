{
 "metadata": {
  "name": "",
  "signature": "sha256:4c9cd02f700478772884df1929ceae7c95dd36f2f4703b62d94e2af598414a27"
 },
 "nbformat": 3,
 "nbformat_minor": 0,
 "worksheets": [
  {
   "cells": [
    {
     "cell_type": "code",
     "collapsed": false,
     "input": [
      "import dendropy\n",
      "import pandas as pd\n"
     ],
     "language": "python",
     "metadata": {},
     "outputs": [],
     "prompt_number": 2
    },
    {
     "cell_type": "markdown",
     "metadata": {},
     "source": [
      "Import tree with node labels. Because we'll use a pandas dataframe to associate the tip data with the tree, we want to preserve the underscores, assuming they exist in your data file of tip states. If not, set to false."
     ]
    },
    {
     "cell_type": "code",
     "collapsed": false,
     "input": [
      "taxa = dendropy.TaxonSet()\n",
      "mle = dendropy.Tree.get_from_path('vec_tree', 'newick', taxon_set=taxa, preserve_underscores=True) "
     ],
     "language": "python",
     "metadata": {},
     "outputs": [
      {
       "ename": "NameError",
       "evalue": "name 'dendropy' is not defined",
       "output_type": "pyerr",
       "traceback": [
        "\u001b[1;31m---------------------------------------------------------------------------\u001b[0m\n\u001b[1;31mNameError\u001b[0m                                 Traceback (most recent call last)",
        "\u001b[1;32m<ipython-input-1-4fbee3a8739d>\u001b[0m in \u001b[0;36m<module>\u001b[1;34m()\u001b[0m\n\u001b[1;32m----> 1\u001b[1;33m \u001b[0mtaxa\u001b[0m \u001b[1;33m=\u001b[0m \u001b[0mdendropy\u001b[0m\u001b[1;33m.\u001b[0m\u001b[0mTaxonSet\u001b[0m\u001b[1;33m(\u001b[0m\u001b[1;33m)\u001b[0m\u001b[1;33m\u001b[0m\u001b[0m\n\u001b[0m\u001b[0;32m      2\u001b[0m \u001b[0mmle\u001b[0m \u001b[1;33m=\u001b[0m \u001b[0mdendropy\u001b[0m\u001b[1;33m.\u001b[0m\u001b[0mTree\u001b[0m\u001b[1;33m.\u001b[0m\u001b[0mget_from_path\u001b[0m\u001b[1;33m(\u001b[0m\u001b[1;34m'vec_tree'\u001b[0m\u001b[1;33m,\u001b[0m \u001b[1;34m'newick'\u001b[0m\u001b[1;33m,\u001b[0m \u001b[0mtaxon_set\u001b[0m\u001b[1;33m=\u001b[0m\u001b[0mtaxa\u001b[0m\u001b[1;33m,\u001b[0m \u001b[0mpreserve_underscores\u001b[0m\u001b[1;33m=\u001b[0m\u001b[0mTrue\u001b[0m\u001b[1;33m)\u001b[0m\u001b[1;33m\u001b[0m\u001b[0m\n",
        "\u001b[1;31mNameError\u001b[0m: name 'dendropy' is not defined"
       ]
      }
     ],
     "prompt_number": 1
    },
    {
     "cell_type": "markdown",
     "metadata": {},
     "source": [
      "Import data. CSV with one column of taxon labels, one of tip states."
     ]
    },
    {
     "cell_type": "code",
     "collapsed": false,
     "input": [
      "data = pd.read_csv('PyronParityData.csv', index_col=0)"
     ],
     "language": "python",
     "metadata": {},
     "outputs": [],
     "prompt_number": 4
    },
    {
     "cell_type": "markdown",
     "metadata": {},
     "source": [
      "Iterate over nodes, associating them with the tip states in the pandas dataframe."
     ]
    },
    {
     "cell_type": "code",
     "collapsed": false,
     "input": [
      "for idx, nd in enumerate(mle.postorder_node_iter()):\n",
      "    if nd.label is None:\n",
      "        lookup = '{}'.format(nd.taxon)\n",
      "        nd.label = int(data.ix[lookup])\n",
      "    else: \n",
      "        pass"
     ],
     "language": "python",
     "metadata": {},
     "outputs": [],
     "prompt_number": 5
    },
    {
     "cell_type": "markdown",
     "metadata": {},
     "source": [
      "Associate value ranges with colors."
     ]
    },
    {
     "cell_type": "code",
     "collapsed": false,
     "input": [
      "for nd in mle.postorder_node_iter():    \n",
      "    if float(nd.label) == 0:\n",
      "       nd.annotations.add_new(name = '!color', value = '#0000FF') #Dark blue, zeroes\n",
      "    elif float(nd.label) > 0.00000000000001 and float(nd.label) < 0.16:\n",
      "        nd.annotations.add_new(name = '!color', value = 'E50000') #Red, strongly viviparous        \n",
      "    elif float(nd.label) > 0.17 and float(nd.label) < 0.41:\n",
      "        nd.annotations.add_new(name = '!color', value = '##ffa500')#orangey-red, ambiguous viviparous     \n",
      "    elif float(nd.label) > 0.42 and float(nd.label) < 0.67:\n",
      "        nd.annotations.add_new(name = '!color', value = '#00ff00') #green, equivocal\n",
      "    elif float(nd.label) > 0.66 and float(nd.label) < 0.85:\n",
      "        nd.annotations.add_new(name = '!color', value = '#4DBD33') #darker green, ambiguous oviparous        \n",
      "    elif float(nd.label) > .85 and float(nd.label) < 0.99999999999999:\n",
      "        nd.annotations.add_new(name = '!color', value = '#0000FF') #Blue, strongly oviparous \n",
      "    elif float(nd.label) == 1.0:\n",
      "         nd.annotations.add_new(name = '!color', value = '#ff0000') #Red, viviparous\n",
      "        "
     ],
     "language": "python",
     "metadata": {},
     "outputs": [],
     "prompt_number": 6
    },
    {
     "cell_type": "code",
     "collapsed": false,
     "input": [
      "#for index, node in enumerate(mle.postorder_node_iter()):\n",
      "#   print node.label\n",
      "#Change this to a print if you want to see a really long vector of node.labels. I just had this in as a check."
     ],
     "language": "python",
     "metadata": {},
     "outputs": [],
     "prompt_number": 367
    },
    {
     "cell_type": "code",
     "collapsed": false,
     "input": [
      "mle.write_to_path('attempt_1', 'nexus', suppress_annotations = False, annotations_as_nhx=False,\n",
      "                  suppress_taxa_block=True,suppress_internal_taxon_labels=True)\n",
      "\n"
     ],
     "language": "python",
     "metadata": {},
     "outputs": [],
     "prompt_number": 7
    },
    {
     "cell_type": "markdown",
     "metadata": {},
     "source": [
      "You now have a FigTree-readable nexus with node and tip annotations."
     ]
    },
    {
     "cell_type": "markdown",
     "metadata": {},
     "source": [
      "\n",
      "\n",
      "    Copyright (c) <2014> <April Wright, wright.aprilm@gmail.com>\n",
      "\n",
      "\n",
      "    Permission is hereby granted, free of charge, to any person obtaining a copy of this software and associated documentation files (the \"Software\"), to deal in the Software without restriction, including without limitation the rights to use, copy, modify, merge, publish, distribute, sublicense, and/or sell copies of the Software, and to permit persons to whom the Software is furnished to do so, subject to the following conditions:\n",
      "\n",
      "    The above copyright notice and this permission notice shall be included in all copies or substantial portions of the Software.\n",
      "\n",
      "    THE SOFTWARE IS PROVIDED \"AS IS\", WITHOUT WARRANTY OF ANY KIND, EXPRESS OR IMPLIED, INCLUDING BUT NOT LIMITED TO THE WARRANTIES OF MERCHANTABILITY, FITNESS FOR A PARTICULAR PURPOSE AND NONINFRINGEMENT. IN NO EVENT SHALL THE AUTHORS OR COPYRIGHT HOLDERS BE LIABLE FOR ANY CLAIM, DAMAGES OR OTHER LIABILITY, WHETHER IN AN ACTION OF CONTRACT, TORT OR OTHERWISE, ARISING FROM, OUT OF OR IN CONNECTION WITH THE SOFTWARE OR THE USE OR OTHER DEALINGS IN THE SOFTWARE.\n"
     ]
    }
   ],
   "metadata": {}
  }
 ]
}