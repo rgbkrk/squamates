{
 "metadata": {
  "name": "",
  "signature": "sha256:5a584d0f39cf114ef98be72c6873383ffbb7c13d0e11f95a886512b5bd8ee8f8"
 },
 "nbformat": 3,
 "nbformat_minor": 0,
 "worksheets": [
  {
   "cells": [
    {
     "cell_type": "code",
     "collapsed": false,
     "input": [
      "import dendropy\n",
      "from dendropy.utility.fileutils import find_files"
     ],
     "language": "python",
     "metadata": {},
     "outputs": [],
     "prompt_number": 1
    },
    {
     "cell_type": "code",
     "collapsed": false,
     "input": [
      "pb = dendropy.Tree.get_from_path('./Trees/garli_opt/ranked/2598501_pb', 'nexus')"
     ],
     "language": "python",
     "metadata": {},
     "outputs": [],
     "prompt_number": 3
    },
    {
     "cell_type": "code",
     "collapsed": false,
     "input": [
      "flist = find_files(top='Trees/garli_opt/ranked', filename_filter='*')\n",
      "del flist[9]"
     ],
     "language": "python",
     "metadata": {},
     "outputs": [],
     "prompt_number": 6
    },
    {
     "cell_type": "code",
     "collapsed": false,
     "input": [
      "sqtrees = [dendropy.Tree.get_from_path(filename,\"nexus\") for filename in flist]"
     ],
     "language": "python",
     "metadata": {},
     "outputs": [],
     "prompt_number": 22
    },
    {
     "cell_type": "code",
     "collapsed": false,
     "input": [],
     "language": "python",
     "metadata": {},
     "outputs": []
    },
    {
     "cell_type": "code",
     "collapsed": false,
     "input": [
      "oneb = sqtrees[0]\n",
      "one_list = [tree.symmetric_difference(oneb) for tree in sqtrees]"
     ],
     "language": "python",
     "metadata": {},
     "outputs": [],
     "prompt_number": 23
    },
    {
     "cell_type": "code",
     "collapsed": false,
     "input": [
      "one_list"
     ],
     "language": "python",
     "metadata": {},
     "outputs": [
      {
       "metadata": {},
       "output_type": "pyout",
       "prompt_number": 24,
       "text": [
        "[0, 736, 648, 732, 0, 734, 709, 728, 654, 728, 694]"
       ]
      }
     ],
     "prompt_number": 24
    },
    {
     "cell_type": "code",
     "collapsed": false,
     "input": [
      "twob = sqtrees[1]\n",
      "two_list = [tree.symmetric_difference(twob) for tree in sqtrees]"
     ],
     "language": "python",
     "metadata": {},
     "outputs": [],
     "prompt_number": 28
    },
    {
     "cell_type": "code",
     "collapsed": false,
     "input": [
      "two_list"
     ],
     "language": "python",
     "metadata": {},
     "outputs": [
      {
       "metadata": {},
       "output_type": "pyout",
       "prompt_number": 29,
       "text": [
        "[736, 0, 716, 72, 736, 708, 653, 644, 720, 70, 724]"
       ]
      }
     ],
     "prompt_number": 29
    },
    {
     "cell_type": "code",
     "collapsed": false,
     "input": [
      "threeb = sqtrees[2]\n",
      "three_list = [tree.symmetric_difference(threeb) for tree in sqtrees]\n",
      "three_list"
     ],
     "language": "python",
     "metadata": {},
     "outputs": [
      {
       "metadata": {},
       "output_type": "pyout",
       "prompt_number": 30,
       "text": [
        "[648, 716, 0, 728, 648, 764, 705, 726, 10, 730, 732]"
       ]
      }
     ],
     "prompt_number": 30
    },
    {
     "cell_type": "code",
     "collapsed": false,
     "input": [
      "fourb = sqtrees[3]\n",
      "four_list = [tree.symmetric_difference(fourb) for tree in sqtrees]\n",
      "four_list"
     ],
     "language": "python",
     "metadata": {},
     "outputs": [
      {
       "metadata": {},
       "output_type": "pyout",
       "prompt_number": 31,
       "text": [
        "[732, 72, 728, 0, 732, 728, 667, 652, 732, 8, 732]"
       ]
      }
     ],
     "prompt_number": 31
    },
    {
     "cell_type": "code",
     "collapsed": false,
     "input": [
      "fiveb = sqtrees[4]\n",
      "five_list = [tree.symmetric_difference(fiveb) for tree in sqtrees]\n",
      "five_list"
     ],
     "language": "python",
     "metadata": {},
     "outputs": [
      {
       "metadata": {},
       "output_type": "pyout",
       "prompt_number": 34,
       "text": [
        "[0, 736, 648, 732, 0, 734, 709, 728, 654, 728, 694]"
       ]
      }
     ],
     "prompt_number": 34
    },
    {
     "cell_type": "code",
     "collapsed": false,
     "input": [
      "sixb = sqtrees[5]\n",
      "six_list = [tree.symmetric_difference(sixb) for tree in sqtrees]\n",
      "six_list"
     ],
     "language": "python",
     "metadata": {},
     "outputs": [
      {
       "metadata": {},
       "output_type": "pyout",
       "prompt_number": 36,
       "text": [
        "[734, 708, 764, 728, 734, 0, 729, 706, 772, 728, 724]"
       ]
      }
     ],
     "prompt_number": 36
    },
    {
     "cell_type": "code",
     "collapsed": false,
     "input": [
      "pb = dendropy.Tree.get_from_path('Trees/garli_opt/pb', 'nexus')\n",
      "mle = dendropy.Tree.get_from_path('Trees/garli_opt/2b', 'nexus')"
     ],
     "language": "python",
     "metadata": {},
     "outputs": [],
     "prompt_number": 18
    },
    {
     "cell_type": "code",
     "collapsed": false,
     "input": [
      "pb.symmetric_difference(mle)"
     ],
     "language": "python",
     "metadata": {},
     "outputs": [
      {
       "metadata": {},
       "output_type": "pyout",
       "prompt_number": 19,
       "text": [
        "732"
       ]
      }
     ],
     "prompt_number": 19
    },
    {
     "cell_type": "code",
     "collapsed": false,
     "input": [],
     "language": "python",
     "metadata": {},
     "outputs": []
    }
   ],
   "metadata": {}
  }
 ]
}